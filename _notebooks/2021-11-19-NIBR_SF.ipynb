{
 "cells": [
  {
   "cell_type": "markdown",
   "id": "accompanied-worthy",
   "metadata": {},
   "source": [
    "# Substructure filters for hit triaging\n",
    "> Hit triaging code reported from Novartis Institutes for BioMedical Research (NIBR).\n",
    "\n",
    "- toc: true \n",
    "- badges: true\n",
    "- comments: true\n",
    "- categories: [jupyter]"
   ]
  },
  {
   "cell_type": "markdown",
   "id": "similar-transcription",
   "metadata": {},
   "source": [
    "## Introduction\n",
    "\n",
    "Now there are lots of substructure filters for getting drug like molecules such as PAINS, LillyMedChem rules etc. And most of rules are publically available. It's reall great thing.\n",
    "\n",
    "And recently new filter is disclosed from NIBR. And the rules are provided from rdkit/Contrib/NIBRSubstructureFilters ;)\n",
    "The LinkURL is below.\n",
    "https://github.com/rdkit/rdkit/tree/master/Contrib/NIBRSubstructureFilters\n",
    "\n",
    "The orignal code is command line tool for batch analysis so it is useful for handling SMILES set as CSV format. I'm interested in the code and tried to use it from jupyter notebook."
   ]
  },
  {
   "cell_type": "markdown",
   "id": "figured-beatles",
   "metadata": {},
   "source": [
    "## Approach\n",
    "\n",
    "Most of code is borrowed from original repository. And few parts are changed because original code assign molecules in the function. I modified the code and re-defined function for a molecule.\n",
    "All code is shown below."
   ]
  },
  {
   "cell_type": "markdown",
   "id": "moderate-webcam",
   "metadata": {},
   "source": [
    "## step1\n",
    "\n",
    "Import required library and define path for requierd data(SMARTS pattern for the filter)."
   ]
  },
  {
   "cell_type": "code",
   "execution_count": 1,
   "id": "colored-jones",
   "metadata": {},
   "outputs": [],
   "source": [
    "import os\n",
    "import sys\n",
    "import pandas as pd\n",
    "import numpy as np\n",
    "from rdkit import Chem\n",
    "nirb_dir = os.path.join('/home/iwatobipen/miniconda3/envs/chemoinfo/share/RDKit/Contrib/NIBRSubstructureFilters/')\n",
    "sys.path.append(nirb_dir)\n",
    "from collections import Counter, defaultdict, namedtuple\n",
    "from rdkit import Chem\n",
    "from rdkit.Chem import FilterCatalog\n",
    "from rdkit.Chem import rdMolDescriptors\n",
    "from rdkit.Chem.Draw import IPythonConsole\n",
    "from rdkit.Chem import Draw"
   ]
  },
  {
   "cell_type": "code",
   "execution_count": 2,
   "id": "healthy-hughes",
   "metadata": {},
   "outputs": [],
   "source": [
    "import assignSubstructureFilters"
   ]
  },
  {
   "cell_type": "code",
   "execution_count": 3,
   "id": "velvet-savage",
   "metadata": {},
   "outputs": [],
   "source": [
    "FilterMatch = namedtuple('FilterMatch', ('SubstructureMatches', 'Min_N_O_filter', 'Frac_N_O', 'Covalent', 'SpecialMol', 'SeverityScore'))\n",
    "\n",
    "# Build the filter catalog using the RDKit filterCatalog module\n",
    "def buildFilterCatalog():\n",
    "\n",
    "    inhousefilter = pd.read_csv(os.path.join(nirb_dir,'SubstructureFilter_HitTriaging_wPubChemExamples.csv'))\n",
    "    inhouseFiltersCat = FilterCatalog.FilterCatalog()\n",
    "    for i in range(inhousefilter.shape[0]):\n",
    "        mincount=1\n",
    "        if inhousefilter['MIN_COUNT'][i] != 0:\n",
    "            mincount = int(inhousefilter['MIN_COUNT'][i]) \n",
    "        pname = inhousefilter['PATTERN_NAME'][i]\n",
    "        sname = inhousefilter['SET_NAME'][i]\n",
    "        pname_final='{0}_min({1})__{2}__{3}__{4}'.format(pname,mincount,\n",
    "                                                    inhousefilter['SEVERITY_SCORE'][i],\n",
    "                                                    inhousefilter['COVALENT'][i],\n",
    "                                                    inhousefilter['SPECIAL_MOL'][i])\n",
    "        fil = FilterCatalog.SmartsMatcher(pname_final,inhousefilter['SMARTS'][i], mincount)\n",
    "        inhouseFiltersCat.AddEntry(FilterCatalog.FilterCatalogEntry(pname_final,fil))\n",
    "        inhouseFiltersCat.GetEntry(i).SetProp('Scope', sname)\n",
    "    return inhouseFiltersCat"
   ]
  },
  {
   "cell_type": "code",
   "execution_count": 4,
   "id": "remarkable-copying",
   "metadata": {},
   "outputs": [],
   "source": [
    "def assignFilters(mol):\n",
    " \n",
    "    results=[]\n",
    "    \n",
    "    inhouseFiltersCat = buildFilterCatalog()\n",
    "    \n",
    "    NO_filter = '[#7,#8]'    \n",
    "    sma = Chem.MolFromSmarts(NO_filter, mergeHs=True)\n",
    "    \n",
    "    qc,NO_filter,fracNO,co,sc,sm = [np.NaN]*6\n",
    "\n",
    "    # fraction of N and O atoms\n",
    "    numHeavyAtoms = mol.GetNumHeavyAtoms()\n",
    "    numNO = len(mol.GetSubstructMatches(Chem.MolFromSmarts('[#7,#8]')))\n",
    "    fracNO = float(numNO)/numHeavyAtoms\n",
    "\n",
    "    # all substructure filters\n",
    "    entries = inhouseFiltersCat.GetMatches(mol)\n",
    "    if len(list(entries)):\n",
    "        # initialize empty lists\n",
    "        fs,sev,cov,spm = ([] for _ in range(4))\n",
    "        # get the matches\n",
    "        for entry in entries:\n",
    "            pname=entry.GetDescription()\n",
    "            n, s, c, m = pname.split('__')           \n",
    "            fs.append(entry.GetProp(\"Scope\")+'_'+n)\n",
    "            sev.append(int(s))\n",
    "            cov.append(int(c))\n",
    "            spm.append(int(m))\n",
    "        # concatenate all matching filters\n",
    "        qc = ' | '.join(fs)\n",
    "        # assign overall severity\n",
    "        if sev.count(2):\n",
    "            sc = 10\n",
    "        else:\n",
    "            sc = sum(sev)\n",
    "        # get number of covalent flags and special molecule flags\n",
    "        co = sum(cov)\n",
    "        sm = sum(spm)\n",
    "    # if non of the filters matches\n",
    "    else:\n",
    "        qc = 'no match'\n",
    "        sc = 0\n",
    "        co = 0\n",
    "        sm = 0\n",
    "\n",
    "    # special NO filter\n",
    "    if not mol.HasSubstructMatch(sma):\n",
    "        NO_filter = 'no_oxygen_or_nitrogen'\n",
    "    else:\n",
    "        NO_filter = 'no match'\n",
    "    res = FilterMatch(qc,NO_filter,fracNO,co,sm,sc)\n",
    "    return res"
   ]
  },
  {
   "cell_type": "markdown",
   "id": "welcome-dress",
   "metadata": {},
   "source": [
    "Now almost there. Let's check the code. Following molecules are came from original repo."
   ]
  },
  {
   "cell_type": "code",
   "execution_count": 17,
   "id": "environmental-alias",
   "metadata": {},
   "outputs": [],
   "source": [
    "m1 = Chem.MolFromSmiles('Fc1ccc(c(Cl)c1Cl)n2nnnc2Cc3cccnc3')\n",
    "m2 = Chem.MolFromSmiles('[O-][N+](=O)c1ccc(cc1)C(=O)Oc2cccc3oc(cc23)c4ccccc4')"
   ]
  },
  {
   "cell_type": "code",
   "execution_count": 18,
   "id": "purple-break",
   "metadata": {},
   "outputs": [
    {
     "data": {
      "image/png": "[encoded data removed]",
      "text/plain": [
       "<IPython.core.display.Image object>"
      ]
     },
     "execution_count": 18,
     "metadata": {},
     "output_type": "execute_result"
    }
   ],
   "source": [
    "Draw.MolsToGridImage([m1, m2])"
   ]
  },
  {
   "cell_type": "code",
   "execution_count": 19,
   "id": "parliamentary-feelings",
   "metadata": {},
   "outputs": [],
   "source": [
    "res1 = assignFilters(m1)\n",
    "res2 = assignFilters(m2)"
   ]
  },
  {
   "cell_type": "code",
   "execution_count": 20,
   "id": "armed-companion",
   "metadata": {},
   "outputs": [
    {
     "name": "stdout",
     "output_type": "stream",
     "text": [
      "FilterMatch(SubstructureMatches='NIBR_Screeningdeck_2019_halogen_aromatic_count_3_min(3) | NIBR_Screeningdeck_2019_polyhalogenated_aromate_min(1)', Min_N_O_filter='no match', Frac_N_O=0.23809523809523808, Covalent=0, SpecialMol=0, SeverityScore=1)\n",
      "FilterMatch(SubstructureMatches='NIBR_Screeningdeck_2019_nitro_count_1_min(1) | NIBR_Screeningdeck_2019_phenol_ester_min(1)', Min_N_O_filter='no match', Frac_N_O=0.2222222222222222, Covalent=0, SpecialMol=0, SeverityScore=0)\n"
     ]
    }
   ],
   "source": [
    "print(res1)\n",
    "print(res2)"
   ]
  },
  {
   "cell_type": "markdown",
   "id": "departmental-mixer",
   "metadata": {},
   "source": [
    "As you can see, running the code on jupyter, we can get molecule with highlight atoms."
   ]
  },
  {
   "cell_type": "code",
   "execution_count": 21,
   "id": "color-russia",
   "metadata": {},
   "outputs": [
    {
     "data": {
      "image/png": "[encoded data removed]",
      "text/plain": [
       "<rdkit.Chem.rdchem.Mol at 0x7f184d590c60>"
      ]
     },
     "execution_count": 21,
     "metadata": {},
     "output_type": "execute_result"
    }
   ],
   "source": [
    "m1"
   ]
  },
  {
   "cell_type": "code",
   "execution_count": 22,
   "id": "descending-rapid",
   "metadata": {
    "scrolled": true
   },
   "outputs": [
    {
     "data": {
      "image/png": "[encoded data removed]",
      "text/plain": [
       "<rdkit.Chem.rdchem.Mol at 0x7f184d590cb0>"
      ]
     },
     "execution_count": 22,
     "metadata": {},
     "output_type": "execute_result"
    }
   ],
   "source": [
    "m2"
   ]
  },
  {
   "cell_type": "markdown",
   "id": "metropolitan-setting",
   "metadata": {},
   "source": [
    "## Summary\n",
    "\n",
    "By using the code from jupyter notebook, it's easy to see the atoms which are meet the filter.\n",
    "RDKit Contrib folder has lots of useful code for chemoinformatics! Don't miss it!!!!"
   ]
  },
  {
   "cell_type": "code",
   "execution_count": null,
   "id": "solid-poverty",
   "metadata": {},
   "outputs": [],
   "source": []
  },
  {
   "cell_type": "code",
   "execution_count": null,
   "id": "optical-moral",
   "metadata": {},
   "outputs": [],
   "source": []
  }
 ],
 "metadata": {
  "kernelspec": {
   "display_name": "Python 3",
   "language": "python",
   "name": "python3"
  },
  "language_info": {
   "codemirror_mode": {
    "name": "ipython",
    "version": 3
   },
   "file_extension": ".py",
   "mimetype": "text/x-python",
   "name": "python",
   "nbconvert_exporter": "python",
   "pygments_lexer": "ipython3",
   "version": "3.7.9"
  }
 },
 "nbformat": 4,
 "nbformat_minor": 5
}
